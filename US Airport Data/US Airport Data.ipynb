{
 "cells": [
  {
   "cell_type": "markdown",
   "metadata": {},
   "source": [
    "# US Airport Data"
   ]
  },
  {
   "cell_type": "markdown",
   "metadata": {},
   "source": [
    "The dataset used is from Kaggle: https://www.kaggle.com/yuanyuwendymu/airline-delay-and-cancellation-data-2009-2018?select=2018.csv\n",
    "\n",
    "Data from 2014 - 2018 was combined in one csv file and is used for this project.\n",
    "\n",
    "Airline name, Airport name, City, State and State abbreviation are from Reporting_Airline, OriginAirportID and OriginState lookup tables in \"On-Time : Reporting Carrier On-Time Performance (1987-present)\" from \"Bureau of Transportation Statistics\" website (https://www.bts.gov/) and are included in the project folder\n"
   ]
  },
  {
   "cell_type": "code",
   "execution_count": 1,
   "metadata": {},
   "outputs": [
    {
     "name": "stderr",
     "output_type": "stream",
     "text": [
      "c:\\users\\natal\\appdata\\local\\programs\\python\\python37\\lib\\site-packages\\sklearn\\utils\\deprecation.py:143: FutureWarning: The sklearn.metrics.scorer module is  deprecated in version 0.22 and will be removed in version 0.24. The corresponding classes / functions should instead be imported from sklearn.metrics. Anything that cannot be imported from sklearn.metrics is now part of the private API.\n",
      "  warnings.warn(message, FutureWarning)\n"
     ]
    }
   ],
   "source": [
    "import pandas as pd\n",
    "import datetime\n",
    "import numpy as np  \n",
    "import matplotlib.pyplot as plt  \n",
    "import ipywidgets as widgets\n",
    "from ipywidgets import interact, fixed\n",
    "import seaborn as sns\n",
    "from sklearn import preprocessing\n",
    "from sklearn.model_selection import train_test_split \n",
    "from sklearn.linear_model import LogisticRegression\n",
    "from sklearn.decomposition import PCA\n",
    "from sklearn.svm import SVC\n",
    "from sklearn.pipeline import Pipeline\n",
    "from sklearn.metrics import mean_squared_error, r2_score, scorer\n",
    "from sklearn.preprocessing import PolynomialFeatures\n",
    "from sklearn.preprocessing import StandardScaler\n",
    "from sklearn import metrics\n",
    "%matplotlib inline"
   ]
  },
  {
   "cell_type": "code",
   "execution_count": 2,
   "metadata": {
    "scrolled": true
   },
   "outputs": [],
   "source": [
    "#Read CSV file\n",
    "US_flight_data = pd.read_csv(\"2014_2018.csv\")"
   ]
  },
  {
   "cell_type": "markdown",
   "metadata": {},
   "source": [
    "# Data Cleaning"
   ]
  },
  {
   "cell_type": "code",
   "execution_count": 3,
   "metadata": {},
   "outputs": [],
   "source": [
    "#Delete unused columns\n",
    "US_flight_data.drop(['TAXI_OUT', 'WHEELS_OFF','WHEELS_ON', 'TAXI_IN','CRS_ELAPSED_TIME',\n",
    "       'ACTUAL_ELAPSED_TIME', 'AIR_TIME', 'DISTANCE', 'OP_CARRIER_FL_NUM', 'DEP_TIME',\n",
    "       'ARR_TIME', 'DIVERTED', 'Unnamed: 27', 'CANCELLED',  'CANCELLATION_CODE'], \n",
    "               axis=1, inplace=True)"
   ]
  },
  {
   "cell_type": "code",
   "execution_count": 4,
   "metadata": {
    "scrolled": true
   },
   "outputs": [
    {
     "data": {
      "text/html": [
       "<div>\n",
       "<style scoped>\n",
       "    .dataframe tbody tr th:only-of-type {\n",
       "        vertical-align: middle;\n",
       "    }\n",
       "\n",
       "    .dataframe tbody tr th {\n",
       "        vertical-align: top;\n",
       "    }\n",
       "\n",
       "    .dataframe thead th {\n",
       "        text-align: right;\n",
       "    }\n",
       "</style>\n",
       "<table border=\"1\" class=\"dataframe\">\n",
       "  <thead>\n",
       "    <tr style=\"text-align: right;\">\n",
       "      <th></th>\n",
       "      <th>FL_DATE</th>\n",
       "      <th>OP_CARRIER</th>\n",
       "      <th>ORIGIN</th>\n",
       "      <th>DEST</th>\n",
       "      <th>CRS_DEP_TIME</th>\n",
       "      <th>DEP_DELAY</th>\n",
       "      <th>CRS_ARR_TIME</th>\n",
       "      <th>ARR_DELAY</th>\n",
       "      <th>CARRIER_DELAY</th>\n",
       "      <th>WEATHER_DELAY</th>\n",
       "      <th>NAS_DELAY</th>\n",
       "      <th>SECURITY_DELAY</th>\n",
       "      <th>LATE_AIRCRAFT_DELAY</th>\n",
       "      <th>Carrier Name</th>\n",
       "    </tr>\n",
       "  </thead>\n",
       "  <tbody>\n",
       "    <tr>\n",
       "      <th>0</th>\n",
       "      <td>2014-01-01</td>\n",
       "      <td>AA</td>\n",
       "      <td>ICT</td>\n",
       "      <td>DFW</td>\n",
       "      <td>1135</td>\n",
       "      <td>9.0</td>\n",
       "      <td>1300</td>\n",
       "      <td>2.0</td>\n",
       "      <td>NaN</td>\n",
       "      <td>NaN</td>\n",
       "      <td>NaN</td>\n",
       "      <td>NaN</td>\n",
       "      <td>NaN</td>\n",
       "      <td>American Airlines Inc.</td>\n",
       "    </tr>\n",
       "    <tr>\n",
       "      <th>1</th>\n",
       "      <td>2014-01-01</td>\n",
       "      <td>AA</td>\n",
       "      <td>MIA</td>\n",
       "      <td>TPA</td>\n",
       "      <td>2225</td>\n",
       "      <td>-5.0</td>\n",
       "      <td>2325</td>\n",
       "      <td>-10.0</td>\n",
       "      <td>NaN</td>\n",
       "      <td>NaN</td>\n",
       "      <td>NaN</td>\n",
       "      <td>NaN</td>\n",
       "      <td>NaN</td>\n",
       "      <td>American Airlines Inc.</td>\n",
       "    </tr>\n",
       "    <tr>\n",
       "      <th>2</th>\n",
       "      <td>2014-01-01</td>\n",
       "      <td>AA</td>\n",
       "      <td>JFK</td>\n",
       "      <td>LAX</td>\n",
       "      <td>900</td>\n",
       "      <td>14.0</td>\n",
       "      <td>1225</td>\n",
       "      <td>13.0</td>\n",
       "      <td>NaN</td>\n",
       "      <td>NaN</td>\n",
       "      <td>NaN</td>\n",
       "      <td>NaN</td>\n",
       "      <td>NaN</td>\n",
       "      <td>American Airlines Inc.</td>\n",
       "    </tr>\n",
       "    <tr>\n",
       "      <th>3</th>\n",
       "      <td>2014-01-01</td>\n",
       "      <td>AA</td>\n",
       "      <td>LAX</td>\n",
       "      <td>JFK</td>\n",
       "      <td>930</td>\n",
       "      <td>122.0</td>\n",
       "      <td>1800</td>\n",
       "      <td>111.0</td>\n",
       "      <td>111.0</td>\n",
       "      <td>0.0</td>\n",
       "      <td>0.0</td>\n",
       "      <td>0.0</td>\n",
       "      <td>0.0</td>\n",
       "      <td>American Airlines Inc.</td>\n",
       "    </tr>\n",
       "    <tr>\n",
       "      <th>4</th>\n",
       "      <td>2014-01-01</td>\n",
       "      <td>AA</td>\n",
       "      <td>JFK</td>\n",
       "      <td>LAX</td>\n",
       "      <td>1200</td>\n",
       "      <td>-3.0</td>\n",
       "      <td>1510</td>\n",
       "      <td>13.0</td>\n",
       "      <td>NaN</td>\n",
       "      <td>NaN</td>\n",
       "      <td>NaN</td>\n",
       "      <td>NaN</td>\n",
       "      <td>NaN</td>\n",
       "      <td>American Airlines Inc.</td>\n",
       "    </tr>\n",
       "    <tr>\n",
       "      <th>...</th>\n",
       "      <td>...</td>\n",
       "      <td>...</td>\n",
       "      <td>...</td>\n",
       "      <td>...</td>\n",
       "      <td>...</td>\n",
       "      <td>...</td>\n",
       "      <td>...</td>\n",
       "      <td>...</td>\n",
       "      <td>...</td>\n",
       "      <td>...</td>\n",
       "      <td>...</td>\n",
       "      <td>...</td>\n",
       "      <td>...</td>\n",
       "      <td>...</td>\n",
       "    </tr>\n",
       "    <tr>\n",
       "      <th>30144610</th>\n",
       "      <td>2018-12-31</td>\n",
       "      <td>YX</td>\n",
       "      <td>JFK</td>\n",
       "      <td>CLE</td>\n",
       "      <td>944</td>\n",
       "      <td>51.0</td>\n",
       "      <td>1146</td>\n",
       "      <td>37.0</td>\n",
       "      <td>37.0</td>\n",
       "      <td>0.0</td>\n",
       "      <td>0.0</td>\n",
       "      <td>0.0</td>\n",
       "      <td>0.0</td>\n",
       "      <td>Republic Airline</td>\n",
       "    </tr>\n",
       "    <tr>\n",
       "      <th>30144611</th>\n",
       "      <td>2018-12-31</td>\n",
       "      <td>YX</td>\n",
       "      <td>DCA</td>\n",
       "      <td>LGA</td>\n",
       "      <td>720</td>\n",
       "      <td>-2.0</td>\n",
       "      <td>842</td>\n",
       "      <td>-15.0</td>\n",
       "      <td>NaN</td>\n",
       "      <td>NaN</td>\n",
       "      <td>NaN</td>\n",
       "      <td>NaN</td>\n",
       "      <td>NaN</td>\n",
       "      <td>Republic Airline</td>\n",
       "    </tr>\n",
       "    <tr>\n",
       "      <th>30144612</th>\n",
       "      <td>2018-12-31</td>\n",
       "      <td>YX</td>\n",
       "      <td>LGA</td>\n",
       "      <td>DCA</td>\n",
       "      <td>1000</td>\n",
       "      <td>-3.0</td>\n",
       "      <td>1134</td>\n",
       "      <td>-27.0</td>\n",
       "      <td>NaN</td>\n",
       "      <td>NaN</td>\n",
       "      <td>NaN</td>\n",
       "      <td>NaN</td>\n",
       "      <td>NaN</td>\n",
       "      <td>Republic Airline</td>\n",
       "    </tr>\n",
       "    <tr>\n",
       "      <th>30144613</th>\n",
       "      <td>2018-12-31</td>\n",
       "      <td>YX</td>\n",
       "      <td>CLE</td>\n",
       "      <td>JFK</td>\n",
       "      <td>627</td>\n",
       "      <td>373.0</td>\n",
       "      <td>830</td>\n",
       "      <td>335.0</td>\n",
       "      <td>276.0</td>\n",
       "      <td>0.0</td>\n",
       "      <td>0.0</td>\n",
       "      <td>0.0</td>\n",
       "      <td>59.0</td>\n",
       "      <td>Republic Airline</td>\n",
       "    </tr>\n",
       "    <tr>\n",
       "      <th>30144614</th>\n",
       "      <td>2018-12-31</td>\n",
       "      <td>YX</td>\n",
       "      <td>BOS</td>\n",
       "      <td>CMH</td>\n",
       "      <td>908</td>\n",
       "      <td>47.0</td>\n",
       "      <td>1135</td>\n",
       "      <td>44.0</td>\n",
       "      <td>44.0</td>\n",
       "      <td>0.0</td>\n",
       "      <td>0.0</td>\n",
       "      <td>0.0</td>\n",
       "      <td>0.0</td>\n",
       "      <td>Republic Airline</td>\n",
       "    </tr>\n",
       "  </tbody>\n",
       "</table>\n",
       "<p>30144615 rows × 14 columns</p>\n",
       "</div>"
      ],
      "text/plain": [
       "             FL_DATE OP_CARRIER ORIGIN DEST  CRS_DEP_TIME  DEP_DELAY  \\\n",
       "0         2014-01-01         AA    ICT  DFW          1135        9.0   \n",
       "1         2014-01-01         AA    MIA  TPA          2225       -5.0   \n",
       "2         2014-01-01         AA    JFK  LAX           900       14.0   \n",
       "3         2014-01-01         AA    LAX  JFK           930      122.0   \n",
       "4         2014-01-01         AA    JFK  LAX          1200       -3.0   \n",
       "...              ...        ...    ...  ...           ...        ...   \n",
       "30144610  2018-12-31         YX    JFK  CLE           944       51.0   \n",
       "30144611  2018-12-31         YX    DCA  LGA           720       -2.0   \n",
       "30144612  2018-12-31         YX    LGA  DCA          1000       -3.0   \n",
       "30144613  2018-12-31         YX    CLE  JFK           627      373.0   \n",
       "30144614  2018-12-31         YX    BOS  CMH           908       47.0   \n",
       "\n",
       "          CRS_ARR_TIME  ARR_DELAY  CARRIER_DELAY  WEATHER_DELAY  NAS_DELAY  \\\n",
       "0                 1300        2.0            NaN            NaN        NaN   \n",
       "1                 2325      -10.0            NaN            NaN        NaN   \n",
       "2                 1225       13.0            NaN            NaN        NaN   \n",
       "3                 1800      111.0          111.0            0.0        0.0   \n",
       "4                 1510       13.0            NaN            NaN        NaN   \n",
       "...                ...        ...            ...            ...        ...   \n",
       "30144610          1146       37.0           37.0            0.0        0.0   \n",
       "30144611           842      -15.0            NaN            NaN        NaN   \n",
       "30144612          1134      -27.0            NaN            NaN        NaN   \n",
       "30144613           830      335.0          276.0            0.0        0.0   \n",
       "30144614          1135       44.0           44.0            0.0        0.0   \n",
       "\n",
       "          SECURITY_DELAY  LATE_AIRCRAFT_DELAY            Carrier Name  \n",
       "0                    NaN                  NaN  American Airlines Inc.  \n",
       "1                    NaN                  NaN  American Airlines Inc.  \n",
       "2                    NaN                  NaN  American Airlines Inc.  \n",
       "3                    0.0                  0.0  American Airlines Inc.  \n",
       "4                    NaN                  NaN  American Airlines Inc.  \n",
       "...                  ...                  ...                     ...  \n",
       "30144610             0.0                  0.0        Republic Airline  \n",
       "30144611             NaN                  NaN        Republic Airline  \n",
       "30144612             NaN                  NaN        Republic Airline  \n",
       "30144613             0.0                 59.0        Republic Airline  \n",
       "30144614             0.0                  0.0        Republic Airline  \n",
       "\n",
       "[30144615 rows x 14 columns]"
      ]
     },
     "execution_count": 4,
     "metadata": {},
     "output_type": "execute_result"
    }
   ],
   "source": [
    "#Add Carrier (Airline) name\n",
    "carrier_data = pd.read_csv(\"L_UNIQUE_CARRIERS.csv_\")\n",
    "US_flight_data = pd.merge(US_flight_data, carrier_data, left_on=\"OP_CARRIER\", \n",
    "                                          right_on=\"Code\").drop('Code', axis=1).rename(\n",
    "                                                            columns={\"Description\": \"Carrier Name\"})\n",
    "US_flight_data"
   ]
  },
  {
   "cell_type": "code",
   "execution_count": 5,
   "metadata": {
    "scrolled": false
   },
   "outputs": [],
   "source": [
    "airport_data = pd.read_csv(\"L_AIRPORT.csv_\")\n",
    "#Filter Airport data to only retrieve US/Canadian airports\n",
    "#Example:\n",
    "    #Data for US airport: \"ZXY\",\"Delta, CO: Blake Field\" (City, State (2 letters))\n",
    "    #Data for non-US airport: \"ZXA\",\"Rota, Spain: Rota Airport\" (City, Country (>2 letters))\n",
    "airport_data = airport_data[airport_data[\"Description\"].str.extract(\n",
    "                                                        pat = ',(.*?):')[0].str.len() == 3]\n",
    "#Retrieve Airport city\n",
    "airport_data[\"City\"] = airport_data[\"Description\"].str.extract(pat = '(.*?),')\n",
    "airport_data[\"City\"] = airport_data[\"City\"].str.strip()\n",
    "#Retrieve Airport state\n",
    "airport_data[\"State Code\"] = airport_data[\"Description\"].str.extract(pat = ',(.*?):')\n",
    "airport_data[\"State Code\"] = airport_data[\"State Code\"].str.strip()\n",
    "#Retrieve Airport name\n",
    "airport_data[\"Airport Name\"] = airport_data[\"Description\"].str.extract(pat = ':(.*?)$')\n",
    "airport_data[\"Airport Name\"] = airport_data[\"Airport Name\"].str.strip()\n",
    "\n",
    "airport_data.drop(\"Description\", axis=1, inplace=True)"
   ]
  },
  {
   "cell_type": "code",
   "execution_count": 6,
   "metadata": {},
   "outputs": [
    {
     "data": {
      "text/html": [
       "<div>\n",
       "<style scoped>\n",
       "    .dataframe tbody tr th:only-of-type {\n",
       "        vertical-align: middle;\n",
       "    }\n",
       "\n",
       "    .dataframe tbody tr th {\n",
       "        vertical-align: top;\n",
       "    }\n",
       "\n",
       "    .dataframe thead th {\n",
       "        text-align: right;\n",
       "    }\n",
       "</style>\n",
       "<table border=\"1\" class=\"dataframe\">\n",
       "  <thead>\n",
       "    <tr style=\"text-align: right;\">\n",
       "      <th></th>\n",
       "      <th>State Code</th>\n",
       "      <th>State Name</th>\n",
       "      <th>City</th>\n",
       "      <th>Airport Code</th>\n",
       "      <th>Airport Name</th>\n",
       "    </tr>\n",
       "  </thead>\n",
       "  <tbody>\n",
       "    <tr>\n",
       "      <th>0</th>\n",
       "      <td>AK</td>\n",
       "      <td>Alaska</td>\n",
       "      <td>Afognak Lake</td>\n",
       "      <td>01A</td>\n",
       "      <td>Afognak Lake Airport</td>\n",
       "    </tr>\n",
       "    <tr>\n",
       "      <th>1</th>\n",
       "      <td>AK</td>\n",
       "      <td>Alaska</td>\n",
       "      <td>Granite Mountain</td>\n",
       "      <td>03A</td>\n",
       "      <td>Bear Creek Mining Strip</td>\n",
       "    </tr>\n",
       "    <tr>\n",
       "      <th>2</th>\n",
       "      <td>AK</td>\n",
       "      <td>Alaska</td>\n",
       "      <td>Lik</td>\n",
       "      <td>04A</td>\n",
       "      <td>Lik Mining Camp</td>\n",
       "    </tr>\n",
       "    <tr>\n",
       "      <th>3</th>\n",
       "      <td>AK</td>\n",
       "      <td>Alaska</td>\n",
       "      <td>Little Squaw</td>\n",
       "      <td>05A</td>\n",
       "      <td>Little Squaw Airport</td>\n",
       "    </tr>\n",
       "    <tr>\n",
       "      <th>4</th>\n",
       "      <td>AK</td>\n",
       "      <td>Alaska</td>\n",
       "      <td>Kizhuyak</td>\n",
       "      <td>06A</td>\n",
       "      <td>Kizhuyak Bay</td>\n",
       "    </tr>\n",
       "    <tr>\n",
       "      <th>...</th>\n",
       "      <td>...</td>\n",
       "      <td>...</td>\n",
       "      <td>...</td>\n",
       "      <td>...</td>\n",
       "      <td>...</td>\n",
       "    </tr>\n",
       "    <tr>\n",
       "      <th>2831</th>\n",
       "      <td>VI</td>\n",
       "      <td>U.S. Virgin Islands</td>\n",
       "      <td>St. John</td>\n",
       "      <td>SJF</td>\n",
       "      <td>St. John Airport</td>\n",
       "    </tr>\n",
       "    <tr>\n",
       "      <th>2832</th>\n",
       "      <td>VI</td>\n",
       "      <td>U.S. Virgin Islands</td>\n",
       "      <td>Charlotte Amalie</td>\n",
       "      <td>SPB</td>\n",
       "      <td>Charlotte Amalie Harbor Seaplane Base</td>\n",
       "    </tr>\n",
       "    <tr>\n",
       "      <th>2833</th>\n",
       "      <td>VI</td>\n",
       "      <td>U.S. Virgin Islands</td>\n",
       "      <td>Christiansted</td>\n",
       "      <td>SSB</td>\n",
       "      <td>Christiansted Harbor Seaplane Base</td>\n",
       "    </tr>\n",
       "    <tr>\n",
       "      <th>2834</th>\n",
       "      <td>VI</td>\n",
       "      <td>U.S. Virgin Islands</td>\n",
       "      <td>Charlotte Amalie</td>\n",
       "      <td>STT</td>\n",
       "      <td>Cyril E King</td>\n",
       "    </tr>\n",
       "    <tr>\n",
       "      <th>2835</th>\n",
       "      <td>VI</td>\n",
       "      <td>U.S. Virgin Islands</td>\n",
       "      <td>Christiansted</td>\n",
       "      <td>STX</td>\n",
       "      <td>Henry E. Rohlsen</td>\n",
       "    </tr>\n",
       "  </tbody>\n",
       "</table>\n",
       "<p>2836 rows × 5 columns</p>\n",
       "</div>"
      ],
      "text/plain": [
       "     State Code           State Name              City Airport Code  \\\n",
       "0            AK               Alaska      Afognak Lake          01A   \n",
       "1            AK               Alaska  Granite Mountain          03A   \n",
       "2            AK               Alaska               Lik          04A   \n",
       "3            AK               Alaska      Little Squaw          05A   \n",
       "4            AK               Alaska          Kizhuyak          06A   \n",
       "...         ...                  ...               ...          ...   \n",
       "2831         VI  U.S. Virgin Islands          St. John          SJF   \n",
       "2832         VI  U.S. Virgin Islands  Charlotte Amalie          SPB   \n",
       "2833         VI  U.S. Virgin Islands     Christiansted          SSB   \n",
       "2834         VI  U.S. Virgin Islands  Charlotte Amalie          STT   \n",
       "2835         VI  U.S. Virgin Islands     Christiansted          STX   \n",
       "\n",
       "                               Airport Name  \n",
       "0                      Afognak Lake Airport  \n",
       "1                   Bear Creek Mining Strip  \n",
       "2                           Lik Mining Camp  \n",
       "3                      Little Squaw Airport  \n",
       "4                              Kizhuyak Bay  \n",
       "...                                     ...  \n",
       "2831                       St. John Airport  \n",
       "2832  Charlotte Amalie Harbor Seaplane Base  \n",
       "2833     Christiansted Harbor Seaplane Base  \n",
       "2834                           Cyril E King  \n",
       "2835                       Henry E. Rohlsen  \n",
       "\n",
       "[2836 rows x 5 columns]"
      ]
     },
     "execution_count": 6,
     "metadata": {},
     "output_type": "execute_result"
    }
   ],
   "source": [
    "state_data = pd.read_csv(\"L_STATE_ABR_AVIATION.csv_\")\n",
    "#Remove Canadian states\n",
    "us_states = state_data[state_data[\"Description\"].str.find(',') == -1]\n",
    "#Merge state data with airport data (merge right to discard Canadian airports)\n",
    "US_airport_data = pd.merge(airport_data, us_states, how = 'right', left_on=\"State Code\", \n",
    "                                          right_on=\"Code\").drop('Code_y', axis=1).rename(\n",
    "                                                            columns={\"Description\": \"State Name\", \n",
    "                                                                    \"Code_x\": \"Airport Code\"})\n",
    "#Rearrange column names\n",
    "US_airport_data = US_airport_data[[\"State Code\", \"State Name\", 'City', 'Airport Code', 'Airport Name']]\n",
    "US_airport_data"
   ]
  },
  {
   "cell_type": "code",
   "execution_count": 7,
   "metadata": {},
   "outputs": [],
   "source": [
    "#Add Origin details (State, City and Airport)\n",
    "US_flight_data = pd.merge(US_flight_data, US_airport_data, left_on=\"ORIGIN\", \n",
    "                                          right_on=\"Airport Code\").drop('Airport Code', axis=1).rename(\n",
    "                                                            columns={\"State Code\": \"O State Code\", \n",
    "                                                                    \"State Name\": \"O State Name\",\n",
    "                                                                    \"City\": \"O City\",\n",
    "                                                                    \"Airport Name\": \"O Airport Name\"})"
   ]
  },
  {
   "cell_type": "code",
   "execution_count": 8,
   "metadata": {},
   "outputs": [],
   "source": [
    "#Add Destination details (State, City and Airport)\n",
    "US_flight_data = pd.merge(US_flight_data, US_airport_data, left_on=\"DEST\", \n",
    "                                          right_on=\"Airport Code\").drop('Airport Code', axis=1).rename(\n",
    "                                                            columns={\"State Code\": \"D State Code\", \n",
    "                                                                    \"State Name\": \"D State Name\",\n",
    "                                                                    \"City\": \"D City\",\n",
    "                                                                    \"Airport Name\": \"D Airport Name\"})"
   ]
  },
  {
   "cell_type": "code",
   "execution_count": 9,
   "metadata": {
    "scrolled": true
   },
   "outputs": [],
   "source": [
    "#Extract Month\n",
    "US_flight_data['Month'] = pd.DatetimeIndex(US_flight_data['FL_DATE']).month\n",
    "#Extract Day of Week\n",
    "US_flight_data['Day of Week'] = pd.DatetimeIndex(US_flight_data['FL_DATE']).weekday"
   ]
  },
  {
   "cell_type": "code",
   "execution_count": 10,
   "metadata": {},
   "outputs": [],
   "source": [
    "#Rearrange column names\n",
    "US_flight_data = US_flight_data[['FL_DATE', 'Month', 'Day of Week', 'OP_CARRIER','Carrier Name',  \n",
    "                                 'ORIGIN', 'O State Code', 'O State Name', 'O City', 'O Airport Name', \n",
    "                                 'DEST', 'D State Code', 'D State Name', 'D City', 'D Airport Name',\n",
    "                                   'CRS_DEP_TIME', 'DEP_DELAY', 'CRS_ARR_TIME', 'ARR_DELAY', \n",
    "                                 'CARRIER_DELAY','WEATHER_DELAY', 'NAS_DELAY', \n",
    "                                 'SECURITY_DELAY', 'LATE_AIRCRAFT_DELAY']]"
   ]
  },
  {
   "cell_type": "code",
   "execution_count": 11,
   "metadata": {},
   "outputs": [
    {
     "name": "stderr",
     "output_type": "stream",
     "text": [
      "c:\\users\\natal\\appdata\\local\\programs\\python\\python37\\lib\\site-packages\\pandas\\core\\frame.py:4153: SettingWithCopyWarning: \n",
      "A value is trying to be set on a copy of a slice from a DataFrame\n",
      "\n",
      "See the caveats in the documentation: https://pandas.pydata.org/pandas-docs/stable/user_guide/indexing.html#returning-a-view-versus-a-copy\n",
      "  downcast=downcast,\n"
     ]
    }
   ],
   "source": [
    "#Handle NA and reset indices\n",
    "US_flight_data[['CARRIER_DELAY','WEATHER_DELAY', 'NAS_DELAY', 'SECURITY_DELAY', \n",
    "                'LATE_AIRCRAFT_DELAY']].fillna(0, inplace = True)\n",
    "US_flight_data.dropna(inplace = True)\n",
    "US_flight_data.reset_index(drop = True, inplace = True)"
   ]
  },
  {
   "cell_type": "markdown",
   "metadata": {},
   "source": [
    "# Exploratory Data Analysis"
   ]
  },
  {
   "cell_type": "markdown",
   "metadata": {},
   "source": [
    "Average departure and arrival delays based on Carrier, Month and Day of Week"
   ]
  },
  {
   "cell_type": "code",
   "execution_count": 12,
   "metadata": {},
   "outputs": [
    {
     "data": {
      "text/html": [
       "<div>\n",
       "<style scoped>\n",
       "    .dataframe tbody tr th:only-of-type {\n",
       "        vertical-align: middle;\n",
       "    }\n",
       "\n",
       "    .dataframe tbody tr th {\n",
       "        vertical-align: top;\n",
       "    }\n",
       "\n",
       "    .dataframe thead th {\n",
       "        text-align: right;\n",
       "    }\n",
       "</style>\n",
       "<table border=\"1\" class=\"dataframe\">\n",
       "  <thead>\n",
       "    <tr style=\"text-align: right;\">\n",
       "      <th></th>\n",
       "      <th></th>\n",
       "      <th></th>\n",
       "      <th>DEP_DELAY</th>\n",
       "      <th>ARR_DELAY</th>\n",
       "    </tr>\n",
       "    <tr>\n",
       "      <th>OP_CARRIER</th>\n",
       "      <th>Month</th>\n",
       "      <th>Day of Week</th>\n",
       "      <th></th>\n",
       "      <th></th>\n",
       "    </tr>\n",
       "  </thead>\n",
       "  <tbody>\n",
       "    <tr>\n",
       "      <th rowspan=\"20\" valign=\"top\">9E</th>\n",
       "      <th rowspan=\"7\" valign=\"top\">1</th>\n",
       "      <th>0</th>\n",
       "      <td>76.504841</td>\n",
       "      <td>81.597510</td>\n",
       "    </tr>\n",
       "    <tr>\n",
       "      <th>1</th>\n",
       "      <td>65.846608</td>\n",
       "      <td>67.905605</td>\n",
       "    </tr>\n",
       "    <tr>\n",
       "      <th>2</th>\n",
       "      <td>73.802083</td>\n",
       "      <td>81.960417</td>\n",
       "    </tr>\n",
       "    <tr>\n",
       "      <th>3</th>\n",
       "      <td>78.628319</td>\n",
       "      <td>79.542773</td>\n",
       "    </tr>\n",
       "    <tr>\n",
       "      <th>4</th>\n",
       "      <td>120.441441</td>\n",
       "      <td>128.959459</td>\n",
       "    </tr>\n",
       "    <tr>\n",
       "      <th>5</th>\n",
       "      <td>84.662281</td>\n",
       "      <td>83.307018</td>\n",
       "    </tr>\n",
       "    <tr>\n",
       "      <th>6</th>\n",
       "      <td>85.169082</td>\n",
       "      <td>85.212560</td>\n",
       "    </tr>\n",
       "    <tr>\n",
       "      <th rowspan=\"7\" valign=\"top\">2</th>\n",
       "      <th>0</th>\n",
       "      <td>67.650854</td>\n",
       "      <td>69.178368</td>\n",
       "    </tr>\n",
       "    <tr>\n",
       "      <th>1</th>\n",
       "      <td>86.534375</td>\n",
       "      <td>85.328125</td>\n",
       "    </tr>\n",
       "    <tr>\n",
       "      <th>2</th>\n",
       "      <td>96.880435</td>\n",
       "      <td>100.347826</td>\n",
       "    </tr>\n",
       "    <tr>\n",
       "      <th>3</th>\n",
       "      <td>98.758170</td>\n",
       "      <td>97.928105</td>\n",
       "    </tr>\n",
       "    <tr>\n",
       "      <th>4</th>\n",
       "      <td>68.864063</td>\n",
       "      <td>73.256250</td>\n",
       "    </tr>\n",
       "    <tr>\n",
       "      <th>5</th>\n",
       "      <td>76.666667</td>\n",
       "      <td>92.085714</td>\n",
       "    </tr>\n",
       "    <tr>\n",
       "      <th>6</th>\n",
       "      <td>96.256522</td>\n",
       "      <td>99.802174</td>\n",
       "    </tr>\n",
       "    <tr>\n",
       "      <th rowspan=\"6\" valign=\"top\">3</th>\n",
       "      <th>0</th>\n",
       "      <td>49.396226</td>\n",
       "      <td>56.837736</td>\n",
       "    </tr>\n",
       "    <tr>\n",
       "      <th>1</th>\n",
       "      <td>49.519068</td>\n",
       "      <td>57.273305</td>\n",
       "    </tr>\n",
       "    <tr>\n",
       "      <th>2</th>\n",
       "      <td>48.544413</td>\n",
       "      <td>54.724928</td>\n",
       "    </tr>\n",
       "    <tr>\n",
       "      <th>3</th>\n",
       "      <td>75.828798</td>\n",
       "      <td>77.624717</td>\n",
       "    </tr>\n",
       "    <tr>\n",
       "      <th>4</th>\n",
       "      <td>59.100894</td>\n",
       "      <td>63.549170</td>\n",
       "    </tr>\n",
       "    <tr>\n",
       "      <th>5</th>\n",
       "      <td>65.763889</td>\n",
       "      <td>67.930556</td>\n",
       "    </tr>\n",
       "  </tbody>\n",
       "</table>\n",
       "</div>"
      ],
      "text/plain": [
       "                               DEP_DELAY   ARR_DELAY\n",
       "OP_CARRIER Month Day of Week                        \n",
       "9E         1     0             76.504841   81.597510\n",
       "                 1             65.846608   67.905605\n",
       "                 2             73.802083   81.960417\n",
       "                 3             78.628319   79.542773\n",
       "                 4            120.441441  128.959459\n",
       "                 5             84.662281   83.307018\n",
       "                 6             85.169082   85.212560\n",
       "           2     0             67.650854   69.178368\n",
       "                 1             86.534375   85.328125\n",
       "                 2             96.880435  100.347826\n",
       "                 3             98.758170   97.928105\n",
       "                 4             68.864063   73.256250\n",
       "                 5             76.666667   92.085714\n",
       "                 6             96.256522   99.802174\n",
       "           3     0             49.396226   56.837736\n",
       "                 1             49.519068   57.273305\n",
       "                 2             48.544413   54.724928\n",
       "                 3             75.828798   77.624717\n",
       "                 4             59.100894   63.549170\n",
       "                 5             65.763889   67.930556"
      ]
     },
     "execution_count": 12,
     "metadata": {},
     "output_type": "execute_result"
    }
   ],
   "source": [
    "avg_delays = US_flight_data.groupby(['OP_CARRIER', 'Month', 'Day of Week'])[['DEP_DELAY',  \n",
    "                                                                            'ARR_DELAY']].mean()\n",
    "avg_delays.head(20)"
   ]
  },
  {
   "cell_type": "markdown",
   "metadata": {},
   "source": [
    "Below line can be used to retrieve specific info using carrier abbreviation, month and day of week"
   ]
  },
  {
   "cell_type": "code",
   "execution_count": 13,
   "metadata": {},
   "outputs": [
    {
     "data": {
      "text/html": [
       "<div>\n",
       "<style scoped>\n",
       "    .dataframe tbody tr th:only-of-type {\n",
       "        vertical-align: middle;\n",
       "    }\n",
       "\n",
       "    .dataframe tbody tr th {\n",
       "        vertical-align: top;\n",
       "    }\n",
       "\n",
       "    .dataframe thead th {\n",
       "        text-align: right;\n",
       "    }\n",
       "</style>\n",
       "<table border=\"1\" class=\"dataframe\">\n",
       "  <thead>\n",
       "    <tr style=\"text-align: right;\">\n",
       "      <th></th>\n",
       "      <th></th>\n",
       "      <th></th>\n",
       "      <th>DEP_DELAY</th>\n",
       "      <th>ARR_DELAY</th>\n",
       "    </tr>\n",
       "    <tr>\n",
       "      <th>OP_CARRIER</th>\n",
       "      <th>Month</th>\n",
       "      <th>Day of Week</th>\n",
       "      <th></th>\n",
       "      <th></th>\n",
       "    </tr>\n",
       "  </thead>\n",
       "  <tbody>\n",
       "    <tr>\n",
       "      <th rowspan=\"3\" valign=\"top\">AA</th>\n",
       "      <th>1</th>\n",
       "      <th>5</th>\n",
       "      <td>59.142378</td>\n",
       "      <td>63.951930</td>\n",
       "    </tr>\n",
       "    <tr>\n",
       "      <th>2</th>\n",
       "      <th>5</th>\n",
       "      <td>56.592848</td>\n",
       "      <td>63.255219</td>\n",
       "    </tr>\n",
       "    <tr>\n",
       "      <th>3</th>\n",
       "      <th>5</th>\n",
       "      <td>57.649141</td>\n",
       "      <td>60.817091</td>\n",
       "    </tr>\n",
       "  </tbody>\n",
       "</table>\n",
       "</div>"
      ],
      "text/plain": [
       "                              DEP_DELAY  ARR_DELAY\n",
       "OP_CARRIER Month Day of Week                      \n",
       "AA         1     5            59.142378  63.951930\n",
       "           2     5            56.592848  63.255219\n",
       "           3     5            57.649141  60.817091"
      ]
     },
     "execution_count": 13,
     "metadata": {},
     "output_type": "execute_result"
    }
   ],
   "source": [
    "avg_delays.loc[['AA'], [1,2,3],[5], :]"
   ]
  },
  {
   "cell_type": "markdown",
   "metadata": {},
   "source": [
    "Bar Plot of average departure and arrival delays per month and day of week"
   ]
  },
  {
   "cell_type": "code",
   "execution_count": 14,
   "metadata": {
    "scrolled": true
   },
   "outputs": [
    {
     "data": {
      "text/plain": [
       "Text(0.5, 1.0, 'Weekly Arrival Delays')"
      ]
     },
     "execution_count": 14,
     "metadata": {},
     "output_type": "execute_result"
    },
    {
     "data": {
      "image/png": "[encoded data removed]",
      "text/plain": [
       "<Figure size 1440x720 with 4 Axes>"
      ]
     },
     "metadata": {
      "needs_background": "light"
     },
     "output_type": "display_data"
    }
   ],
   "source": [
    "avg_month_delays = US_flight_data.groupby(['Month'])[['DEP_DELAY', 'ARR_DELAY']].mean()\n",
    "avg_dow_delays = US_flight_data.groupby(['Day of Week'])[['DEP_DELAY', 'ARR_DELAY']].mean()\n",
    "\n",
    "fig, ax = plt.subplots(2, 2, figsize=(20, 10))\n",
    "ax[0, 0].bar(avg_month_delays.index, avg_month_delays['DEP_DELAY'], color = 'grey')\n",
    "ax[0, 0].set_title('Monthly Departure Delays')\n",
    "ax[0, 1].bar(avg_month_delays.index, avg_month_delays['ARR_DELAY'], color = 'cyan')\n",
    "ax[0, 1].set_title('Monthly Arrival Delays')\n",
    "ax[1, 0].bar(avg_dow_delays.index, avg_dow_delays['DEP_DELAY'], color = 'purple')\n",
    "ax[1, 0].set_title('Weekly Departure Delays')\n",
    "ax[1, 1].bar(avg_dow_delays.index, avg_dow_delays['ARR_DELAY'], color = 'pink')\n",
    "ax[1, 1].set_title('Weekly Arrival Delays')\n"
   ]
  },
  {
   "cell_type": "markdown",
   "metadata": {},
   "source": [
    "Pie chart of delay reasons based on selected Carrier"
   ]
  },
  {
   "cell_type": "code",
   "execution_count": 15,
   "metadata": {},
   "outputs": [
    {
     "name": "stderr",
     "output_type": "stream",
     "text": [
      "c:\\users\\natal\\appdata\\local\\programs\\python\\python37\\lib\\site-packages\\ipykernel_launcher.py:2: FutureWarning: Indexing with multiple keys (implicitly converted to a tuple of keys) will be deprecated, use a list instead.\n",
      "  \n"
     ]
    },
    {
     "data": {
      "application/vnd.jupyter.widget-view+json": {
       "model_id": "574a3709954b4bdd95afb160f0c20d41",
       "version_major": 2,
       "version_minor": 0
      },
      "text/plain": [
       "interactive(children=(Dropdown(description='x', options=('AA', 'EV', 'MQ', 'YV', 'DL', '9E', 'YX', 'OO', 'VX',…"
      ]
     },
     "metadata": {},
     "output_type": "display_data"
    }
   ],
   "source": [
    "#Group by carriers\n",
    "delay_reasons = US_flight_data.groupby(['OP_CARRIER'])['CARRIER_DELAY','WEATHER_DELAY', \n",
    "                                'NAS_DELAY', 'SECURITY_DELAY', 'LATE_AIRCRAFT_DELAY'].sum()\n",
    "\n",
    "@interact\n",
    "def show_delay_reasons(x=US_flight_data['OP_CARRIER'].unique()):\n",
    "    #Filter based on Carrier\n",
    "    carrier = delay_reasons.loc[[x]]\n",
    "    #Pie chart\n",
    "    fig = plt.figure()\n",
    "    ax = fig.add_axes([0,0,1,1])\n",
    "    ax.axis('equal')\n",
    "    ax.pie(carrier, labels = delay_reasons.columns , autopct='%1.1f%%', startangle=15, \n",
    "           shadow = True)\n",
    "    plt.show()"
   ]
  },
  {
   "cell_type": "markdown",
   "metadata": {},
   "source": [
    "# Binary Logistic Regression"
   ]
  },
  {
   "cell_type": "markdown",
   "metadata": {},
   "source": [
    "Predicting whether or not there is a delay based on Scheduled Departure and Arrival time as well as Carrier."
   ]
  },
  {
   "cell_type": "code",
   "execution_count": 16,
   "metadata": {},
   "outputs": [
    {
     "name": "stdout",
     "output_type": "stream",
     "text": [
      "Number of Carriers:  20\n"
     ]
    }
   ],
   "source": [
    "numerical_attr = ['CRS_DEP_TIME', 'CRS_ARR_TIME']\n",
    "#Carrier\n",
    "print('Number of Carriers: ', len(US_flight_data['OP_CARRIER'].unique()))"
   ]
  },
  {
   "cell_type": "markdown",
   "metadata": {},
   "source": [
    "There are 20 different carriers. Converting them all to dummies will create too many variables.\n",
    "\n",
    "Carriers with freq < 10 will be grouped into 1 group\n",
    "\n",
    "0% < freq < 10%: low_freq"
   ]
  },
  {
   "cell_type": "code",
   "execution_count": 17,
   "metadata": {},
   "outputs": [
    {
     "name": "stdout",
     "output_type": "stream",
     "text": [
      "Frequency of each carrier:\n",
      " WN    22.830631\n",
      "AA    13.598153\n",
      "DL    10.862445\n",
      "OO    10.646748\n",
      "UA     9.287540\n",
      "EV     8.262894\n",
      "B6     5.978014\n",
      "MQ     3.859220\n",
      "AS     2.390614\n",
      "NK     2.278686\n",
      "F9     2.161838\n",
      "US     1.931751\n",
      "VX     1.079370\n",
      "YX     1.007088\n",
      "OH     0.993973\n",
      "9E     0.772736\n",
      "YV     0.755586\n",
      "HA     0.687693\n",
      "G4     0.375766\n",
      "FL     0.239254\n",
      "Name: OP_CARRIER, dtype: float64\n"
     ]
    }
   ],
   "source": [
    "freq = (US_flight_data['OP_CARRIER'].value_counts() / len(US_flight_data['OP_CARRIER']))*100\n",
    "print('Frequency of each carrier:\\n', freq)\n",
    "#Grouping\n",
    "US_flight_data['OP_CARRIER_Group'] = [\"low_freq\" if freq[US_flight_data['OP_CARRIER'][i]] < 10 \n",
    "                                      else US_flight_data['OP_CARRIER'][i]\n",
    "                                      for i in range(len(US_flight_data['OP_CARRIER']))]"
   ]
  },
  {
   "cell_type": "markdown",
   "metadata": {},
   "source": [
    "Create Dummies"
   ]
  },
  {
   "cell_type": "code",
   "execution_count": 18,
   "metadata": {},
   "outputs": [],
   "source": [
    "#Carrier\n",
    "carrier_dummies = pd.get_dummies(US_flight_data['OP_CARRIER_Group'], drop_first=True)\n",
    "\n",
    "#Concatinate them to the dataset\n",
    "US_flight_data_dummy = pd.concat([US_flight_data, carrier_dummies], axis = 1)\n",
    "\n",
    "#'AA' is not included to avoid the dummy variable trap\n",
    "binary_attr = ['DL', 'OO', 'WN', 'low_freq']"
   ]
  },
  {
   "cell_type": "markdown",
   "metadata": {},
   "source": [
    "Define Dependent and Independant variables and create the model instance"
   ]
  },
  {
   "cell_type": "code",
   "execution_count": 19,
   "metadata": {},
   "outputs": [],
   "source": [
    "#Independant variables\n",
    "X_logistic = US_flight_data_dummy[numerical_attr + binary_attr].copy()\n",
    "#Dependent variable\n",
    "y = [1 if US_flight_data['DEP_DELAY'][i] > 0 else 0 for i in range(len(US_flight_data))]\n",
    "#Create model instance\n",
    "model = LogisticRegression(C=1e5, solver='lbfgs')"
   ]
  },
  {
   "cell_type": "markdown",
   "metadata": {},
   "source": [
    "Polynomial Features"
   ]
  },
  {
   "cell_type": "code",
   "execution_count": 20,
   "metadata": {},
   "outputs": [],
   "source": [
    "poly = PolynomialFeatures(degree=2)\n",
    "#fit_transform for all independant variables\n",
    "X_poly = []\n",
    "X_poly = [poly.fit_transform(X_logistic.iloc[:, i].values.reshape(-1,1)) \n",
    "          for i in range(0, X_logistic.shape[1])]\n",
    "#Convert to DataFrame\n",
    "X_poly_df = [pd.DataFrame(X_poly[i]) for i in range(0, len(X_poly))]\n",
    "X_poly_df = pd.concat(X_poly_df, axis=1)"
   ]
  },
  {
   "cell_type": "markdown",
   "metadata": {},
   "source": [
    "Split the dataset: 20% test, 80% train and fit the model"
   ]
  },
  {
   "cell_type": "code",
   "execution_count": 21,
   "metadata": {},
   "outputs": [],
   "source": [
    "#Split the dataset 80/20\n",
    "X_train, X_test, y_train, y_test = train_test_split(\n",
    "    X_poly_df, y, test_size=0.2)"
   ]
  },
  {
   "cell_type": "markdown",
   "metadata": {},
   "source": [
    "Scaling the independant features and fitting the model on the scaled training data"
   ]
  },
  {
   "cell_type": "code",
   "execution_count": 22,
   "metadata": {},
   "outputs": [
    {
     "name": "stderr",
     "output_type": "stream",
     "text": [
      "c:\\users\\natal\\appdata\\local\\programs\\python\\python37\\lib\\site-packages\\pandas\\core\\indexing.py:671: SettingWithCopyWarning: \n",
      "A value is trying to be set on a copy of a slice from a DataFrame\n",
      "\n",
      "See the caveats in the documentation: https://pandas.pydata.org/pandas-docs/stable/user_guide/indexing.html#returning-a-view-versus-a-copy\n",
      "  self._setitem_with_indexer(indexer, value)\n",
      "c:\\users\\natal\\appdata\\local\\programs\\python\\python37\\lib\\site-packages\\ipykernel_launcher.py:5: SettingWithCopyWarning: \n",
      "A value is trying to be set on a copy of a slice from a DataFrame\n",
      "\n",
      "See the caveats in the documentation: https://pandas.pydata.org/pandas-docs/stable/user_guide/indexing.html#returning-a-view-versus-a-copy\n",
      "  \"\"\"\n",
      "c:\\users\\natal\\appdata\\local\\programs\\python\\python37\\lib\\site-packages\\pandas\\core\\indexing.py:671: SettingWithCopyWarning: \n",
      "A value is trying to be set on a copy of a slice from a DataFrame\n",
      "\n",
      "See the caveats in the documentation: https://pandas.pydata.org/pandas-docs/stable/user_guide/indexing.html#returning-a-view-versus-a-copy\n",
      "  self._setitem_with_indexer(indexer, value)\n",
      "c:\\users\\natal\\appdata\\local\\programs\\python\\python37\\lib\\site-packages\\ipykernel_launcher.py:6: SettingWithCopyWarning: \n",
      "A value is trying to be set on a copy of a slice from a DataFrame\n",
      "\n",
      "See the caveats in the documentation: https://pandas.pydata.org/pandas-docs/stable/user_guide/indexing.html#returning-a-view-versus-a-copy\n",
      "  \n"
     ]
    },
    {
     "data": {
      "text/plain": [
       "LogisticRegression(C=100000.0)"
      ]
     },
     "execution_count": 22,
     "metadata": {},
     "output_type": "execute_result"
    }
   ],
   "source": [
    "#Scaling\n",
    "#Create scaler instance\n",
    "scaler_x = StandardScaler()\n",
    "#Scaling numerical attributes only\n",
    "X_train.iloc[:,0:6] = scaler_x.fit_transform(X_train.iloc[:,0:6])\n",
    "X_test.iloc[:,0:6] = scaler_x.transform(X_test.iloc[:,0:6])\n",
    "\n",
    "#Fit the model on the training data\n",
    "model.fit(X_train, y_train)"
   ]
  },
  {
   "cell_type": "markdown",
   "metadata": {},
   "source": [
    "Predict and show performance"
   ]
  },
  {
   "cell_type": "code",
   "execution_count": 23,
   "metadata": {},
   "outputs": [
    {
     "data": {
      "text/plain": [
       "88.76435716112499"
      ]
     },
     "execution_count": 23,
     "metadata": {},
     "output_type": "execute_result"
    }
   ],
   "source": [
    "#Predict y\n",
    "y_pred = model.predict(X_test)\n",
    "\n",
    "metrics.accuracy_score(y_test, y_pred)*100"
   ]
  },
  {
   "cell_type": "code",
   "execution_count": null,
   "metadata": {},
   "outputs": [],
   "source": []
  }
 ],
 "metadata": {
  "kernelspec": {
   "display_name": "Python 3",
   "language": "python",
   "name": "python3"
  },
  "language_info": {
   "codemirror_mode": {
    "name": "ipython",
    "version": 3
   },
   "file_extension": ".py",
   "mimetype": "text/x-python",
   "name": "python",
   "nbconvert_exporter": "python",
   "pygments_lexer": "ipython3",
   "version": "3.7.4"
  }
 },
 "nbformat": 4,
 "nbformat_minor": 4
}
